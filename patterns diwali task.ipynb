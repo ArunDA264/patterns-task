{
 "cells": [
  {
   "cell_type": "markdown",
   "id": "8caef119",
   "metadata": {},
   "source": [
    "### partition task for diwali"
   ]
  },
  {
   "cell_type": "code",
   "execution_count": 4,
   "id": "ebd9d697",
   "metadata": {},
   "outputs": [
    {
     "name": "stdout",
     "output_type": "stream",
     "text": [
      "   3\n",
      "  23\n",
      " 123\n",
      "0123\n",
      " 123\n",
      "  23\n",
      "   3\n"
     ]
    }
   ],
   "source": [
    "size = 3\n",
    "for x in range(size, -(size + 1), -1):\n",
    "    for y in range(abs(x), 0, -1):\n",
    "        print(\" \", end=\"\")\n",
    "    for z in range(abs(x), 4):\n",
    "        print(z, end=\"\")\n",
    "    print()"
   ]
  },
  {
   "cell_type": "code",
   "execution_count": 17,
   "id": "20cfc049",
   "metadata": {},
   "outputs": [
    {
     "name": "stdout",
     "output_type": "stream",
     "text": [
      "   D\n",
      "  CD\n",
      " BCD\n",
      "ABCD\n",
      " BCD\n",
      "  CD\n",
      "   D\n"
     ]
    }
   ],
   "source": [
    "size = 3\n",
    "for x in range(size, -(size + 1), -1):\n",
    "    for y in range(abs(x), 0, -1):\n",
    "        print(\" \", end=\"\")\n",
    "    for z in range(abs(x), 4):\n",
    "        print(chr(z + 65), end=\"\")\n",
    "    print()"
   ]
  },
  {
   "cell_type": "code",
   "execution_count": 6,
   "id": "04c7ce6e",
   "metadata": {},
   "outputs": [
    {
     "name": "stdout",
     "output_type": "stream",
     "text": [
      "   D\n",
      "  DC\n",
      " DCB\n",
      "DCBA\n",
      " DCB\n",
      "  DC\n",
      "   D\n"
     ]
    }
   ],
   "source": [
    "size = 3\n",
    "for x in range(size, -(size + 1), -1):\n",
    "    for y in range(abs(x), 0, -1):\n",
    "        print(\" \", end=\"\")\n",
    "    for z in range(size, abs(x) - 1, -1):\n",
    "        print(chr(z + 65), end=\"\")\n",
    "    print()"
   ]
  },
  {
   "cell_type": "code",
   "execution_count": 19,
   "id": "a86072d4",
   "metadata": {},
   "outputs": [
    {
     "name": "stdout",
     "output_type": "stream",
     "text": [
      "    * \n",
      "   * * \n",
      "  * * * \n",
      " * * * * \n",
      "* * * * * \n"
     ]
    }
   ],
   "source": [
    "for x in range(1, 6):\n",
    "    for y in range(5, x, -1):\n",
    "        print(\" \", end=\"\")\n",
    "    for z in range(0, x):\n",
    "        print(\"* \", end=\"\")\n",
    "    print()"
   ]
  },
  {
   "cell_type": "code",
   "execution_count": 8,
   "id": "04d3ab96",
   "metadata": {},
   "outputs": [
    {
     "name": "stdout",
     "output_type": "stream",
     "text": [
      "    1 \n",
      "   2 2 \n",
      "  3 3 3 \n",
      " 4 4 4 4 \n",
      "5 5 5 5 5 \n"
     ]
    }
   ],
   "source": [
    "for x in range(1, 6):\n",
    "    for y in range(5, x, -1):\n",
    "        print(\" \", end=\"\")\n",
    "    for z in range(0, x):\n",
    "        print(str(x) + \" \", end=\"\")\n",
    "    print()"
   ]
  },
  {
   "cell_type": "code",
   "execution_count": 10,
   "id": "91746956",
   "metadata": {},
   "outputs": [
    {
     "name": "stdout",
     "output_type": "stream",
     "text": [
      "    1 \n",
      "   1 2 \n",
      "  1 2 3 \n",
      " 1 2 3 4 \n",
      "1 2 3 4 5 \n"
     ]
    }
   ],
   "source": [
    "for x in range(1, 6):\n",
    "    for y in range(5, x, -1):\n",
    "        print(\" \", end=\"\")\n",
    "    for z in range(1, x + 1):\n",
    "        print(str(z) + \" \", end=\"\")\n",
    "    print()"
   ]
  },
  {
   "cell_type": "code",
   "execution_count": 11,
   "id": "57220de7",
   "metadata": {},
   "outputs": [
    {
     "name": "stdout",
     "output_type": "stream",
     "text": [
      "    A \n",
      "   B B \n",
      "  C C C \n",
      " D D D D \n",
      "E E E E E \n"
     ]
    }
   ],
   "source": [
    "for x in range(1, 6):\n",
    "    for y in range(5, x, -1):\n",
    "        print(\" \", end=\"\")\n",
    "    for z in range(0, x):\n",
    "        print(chr(x + 64) + \" \", end=\"\")\n",
    "    print()"
   ]
  },
  {
   "cell_type": "code",
   "execution_count": 12,
   "id": "efe7dbad",
   "metadata": {},
   "outputs": [
    {
     "name": "stdout",
     "output_type": "stream",
     "text": [
      "    A \n",
      "   A B \n",
      "  A B C \n",
      " A B C D \n",
      "A B C D E \n"
     ]
    }
   ],
   "source": [
    "for x in range(1, 6):\n",
    "    for y in range(5, x, -1):\n",
    "        print(\" \", end=\"\")\n",
    "    for z in range(1, x + 1):\n",
    "        print(chr(z + 64) + \" \", end=\"\")\n",
    "    print()"
   ]
  },
  {
   "cell_type": "code",
   "execution_count": 13,
   "id": "697ba876",
   "metadata": {},
   "outputs": [
    {
     "name": "stdout",
     "output_type": "stream",
     "text": [
      "* * * * * \n",
      " * * * * \n",
      "  * * * \n",
      "   * * \n",
      "    * \n"
     ]
    }
   ],
   "source": [
    "for x in range(5, 0, -1):\n",
    "    for y in range(x, 5):\n",
    "        print(\" \", end=\"\")\n",
    "    for z in range(0, x):\n",
    "        print(\"* \", end=\"\")\n",
    "    print()"
   ]
  },
  {
   "cell_type": "code",
   "execution_count": 14,
   "id": "2fb08029",
   "metadata": {},
   "outputs": [
    {
     "name": "stdout",
     "output_type": "stream",
     "text": [
      "5 5 5 5 5 \n",
      " 4 4 4 4 \n",
      "  3 3 3 \n",
      "   2 2 \n",
      "    1 \n"
     ]
    }
   ],
   "source": [
    "for x in range(5, 0, -1):\n",
    "    for y in range(x, 5):\n",
    "        print(\" \", end=\"\")\n",
    "    for z in range(0, x):\n",
    "        print(str(x) + \" \", end=\"\")\n",
    "    print()"
   ]
  },
  {
   "cell_type": "code",
   "execution_count": null,
   "id": "8ae20900",
   "metadata": {},
   "outputs": [],
   "source": []
  }
 ],
 "metadata": {
  "kernelspec": {
   "display_name": "Python 3 (ipykernel)",
   "language": "python",
   "name": "python3"
  },
  "language_info": {
   "codemirror_mode": {
    "name": "ipython",
    "version": 3
   },
   "file_extension": ".py",
   "mimetype": "text/x-python",
   "name": "python",
   "nbconvert_exporter": "python",
   "pygments_lexer": "ipython3",
   "version": "3.11.5"
  }
 },
 "nbformat": 4,
 "nbformat_minor": 5
}
